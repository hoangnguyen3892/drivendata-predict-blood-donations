{
 "cells": [
  {
   "cell_type": "markdown",
   "metadata": {},
   "source": [
    "**Predictive modeling including steps:**\n",
    "1. Prepare Problem\n",
    " - Load libraries\n",
    " - Load dataset\n",
    "2. Summarize Data\n",
    " - Descriptive statistics\n",
    " - Data visualizations\n",
    "3. Prepare Data\n",
    " - Data Cleaning\n",
    " - Feature Selection\n",
    " - Data Transforms\n",
    "4. Evaluate Algorithms\n",
    " - Split-out validation dataset\n",
    " - Test options and evaluation metric\n",
    " - Spot-Check Algorithms\n",
    " - Compare Algorithms\n",
    "5. Improve Accuracy\n",
    " - Algorithm Tuning\n",
    " - Ensembles\n",
    "6. Finalize Model\n",
    " - Predictions on validation dataset\n",
    " - Create standalone model on entire training dataset\n",
    " - Save model for later use"
   ]
  },
  {
   "cell_type": "code",
   "execution_count": 1,
   "metadata": {
    "collapsed": false
   },
   "outputs": [],
   "source": [
    "%matplotlib inline"
   ]
  },
  {
   "cell_type": "code",
   "execution_count": 2,
   "metadata": {
    "collapsed": false
   },
   "outputs": [],
   "source": [
    "from helper.load_data import load_data"
   ]
  },
  {
   "cell_type": "markdown",
   "metadata": {},
   "source": [
    "## Prepare Problem"
   ]
  },
  {
   "cell_type": "code",
   "execution_count": 3,
   "metadata": {
    "collapsed": false
   },
   "outputs": [],
   "source": [
    "# Load libraries\n",
    "import pandas as pd\n",
    "import numpy as np\n",
    "import matplotlib.pyplot as plt\n",
    "import seaborn as sns\n",
    "from pandas.tools.plotting import scatter_matrix\n",
    "from sklearn.preprocessing import StandardScaler\n",
    "from sklearn.preprocessing import Imputer\n",
    "from sklearn.preprocessing import OneHotEncoder\n",
    "from sklearn.preprocessing import LabelEncoder\n",
    "from sklearn.preprocessing import LabelBinarizer\n",
    "from sklearn.feature_extraction.text import CountVectorizer\n",
    "from sklearn import cross_validation\n",
    "from sklearn.metrics import classification_report\n",
    "from sklearn.metrics import confusion_matrix\n",
    "from sklearn.metrics import accuracy_score\n",
    "from sklearn.metrics import mean_squared_error\n",
    "from sklearn.metrics import log_loss\n",
    "from sklearn.pipeline import Pipeline\n",
    "from sklearn.grid_search import GridSearchCV\n",
    "from sklearn.linear_model import LogisticRegression\n",
    "from sklearn.linear_model import LinearRegression\n",
    "from sklearn.linear_model import Lasso\n",
    "from sklearn.linear_model import ElasticNet\n",
    "from sklearn.tree import DecisionTreeClassifier\n",
    "from sklearn.neighbors import KNeighborsClassifier\n",
    "from sklearn.naive_bayes import GaussianNB\n",
    "from sklearn.svm import SVC\n",
    "from sklearn.ensemble import AdaBoostClassifier\n",
    "from sklearn.ensemble import GradientBoostingClassifier\n",
    "from sklearn.ensemble import RandomForestClassifier\n",
    "from sklearn.ensemble import ExtraTreesClassifier\n",
    "from sklearn.ensemble import BaggingClassifier\n",
    "from sklearn.svm import SVR\n",
    "from scipy.stats import skew"
   ]
  },
  {
   "cell_type": "code",
   "execution_count": 4,
   "metadata": {
    "collapsed": true
   },
   "outputs": [],
   "source": [
    "# config for show max number of output lines\n",
    "pd.options.display.max_rows = 999\n",
    "pd.options.display.max_columns = 100"
   ]
  },
  {
   "cell_type": "code",
   "execution_count": 5,
   "metadata": {
    "collapsed": true
   },
   "outputs": [],
   "source": [
    "seed = 7"
   ]
  },
  {
   "cell_type": "code",
   "execution_count": 31,
   "metadata": {
    "collapsed": false
   },
   "outputs": [],
   "source": [
    "Y_df, X_df = load_data(train=True, SEED=seed, scale=True,\n",
    "              minmax=False,\n",
    "              nointercept=True,\n",
    "              engineering=False)"
   ]
  },
  {
   "cell_type": "code",
   "execution_count": 32,
   "metadata": {
    "collapsed": false
   },
   "outputs": [
    {
     "data": {
      "text/html": [
       "<div>\n",
       "<table border=\"1\" class=\"dataframe\">\n",
       "  <thead>\n",
       "    <tr style=\"text-align: right;\">\n",
       "      <th></th>\n",
       "      <th>moSinceLast</th>\n",
       "      <th>moSinceFirst</th>\n",
       "      <th>moSinceLast:moSinceFirst</th>\n",
       "      <th>numDonations</th>\n",
       "      <th>volume</th>\n",
       "    </tr>\n",
       "  </thead>\n",
       "  <tbody>\n",
       "    <tr>\n",
       "      <th>543</th>\n",
       "      <td>0.803193</td>\n",
       "      <td>-0.745678</td>\n",
       "      <td>-0.598923</td>\n",
       "      <td>-0.771938</td>\n",
       "      <td>-0.771938</td>\n",
       "    </tr>\n",
       "    <tr>\n",
       "      <th>326</th>\n",
       "      <td>0.803193</td>\n",
       "      <td>1.072006</td>\n",
       "      <td>0.861028</td>\n",
       "      <td>-0.074469</td>\n",
       "      <td>-0.074469</td>\n",
       "    </tr>\n",
       "    <tr>\n",
       "      <th>275</th>\n",
       "      <td>0.558346</td>\n",
       "      <td>0.700207</td>\n",
       "      <td>0.390957</td>\n",
       "      <td>0.099898</td>\n",
       "      <td>0.099898</td>\n",
       "    </tr>\n",
       "    <tr>\n",
       "      <th>101</th>\n",
       "      <td>-0.910739</td>\n",
       "      <td>-0.332568</td>\n",
       "      <td>0.302882</td>\n",
       "      <td>-0.248836</td>\n",
       "      <td>-0.248836</td>\n",
       "    </tr>\n",
       "    <tr>\n",
       "      <th>60</th>\n",
       "      <td>-0.665891</td>\n",
       "      <td>1.526427</td>\n",
       "      <td>-1.016434</td>\n",
       "      <td>2.017936</td>\n",
       "      <td>2.017936</td>\n",
       "    </tr>\n",
       "  </tbody>\n",
       "</table>\n",
       "</div>"
      ],
      "text/plain": [
       "     moSinceLast  moSinceFirst  moSinceLast:moSinceFirst  numDonations  \\\n",
       "543     0.803193     -0.745678                 -0.598923     -0.771938   \n",
       "326     0.803193      1.072006                  0.861028     -0.074469   \n",
       "275     0.558346      0.700207                  0.390957      0.099898   \n",
       "101    -0.910739     -0.332568                  0.302882     -0.248836   \n",
       "60     -0.665891      1.526427                 -1.016434      2.017936   \n",
       "\n",
       "       volume  \n",
       "543 -0.771938  \n",
       "326 -0.074469  \n",
       "275  0.099898  \n",
       "101 -0.248836  \n",
       "60   2.017936  "
      ]
     },
     "execution_count": 32,
     "metadata": {},
     "output_type": "execute_result"
    }
   ],
   "source": [
    "X_df.head()"
   ]
  },
  {
   "cell_type": "code",
   "execution_count": 33,
   "metadata": {
    "collapsed": false
   },
   "outputs": [
    {
     "data": {
      "text/plain": [
       "(576, 5)"
      ]
     },
     "execution_count": 33,
     "metadata": {},
     "output_type": "execute_result"
    }
   ],
   "source": [
    "X_df.shape"
   ]
  },
  {
   "cell_type": "code",
   "execution_count": 34,
   "metadata": {
    "collapsed": false
   },
   "outputs": [],
   "source": [
    "X_test, IDs = load_data(train=False, SEED=seed, scale=True,\n",
    "              minmax=False,\n",
    "              nointercept=True,\n",
    "              engineering=False)"
   ]
  },
  {
   "cell_type": "code",
   "execution_count": 35,
   "metadata": {
    "collapsed": false
   },
   "outputs": [
    {
     "data": {
      "text/plain": [
       "(200, 5)"
      ]
     },
     "execution_count": 35,
     "metadata": {},
     "output_type": "execute_result"
    }
   ],
   "source": [
    "X_test.shape"
   ]
  },
  {
   "cell_type": "code",
   "execution_count": 36,
   "metadata": {
    "collapsed": false
   },
   "outputs": [
    {
     "data": {
      "text/html": [
       "<div>\n",
       "<table border=\"1\" class=\"dataframe\">\n",
       "  <thead>\n",
       "    <tr style=\"text-align: right;\">\n",
       "      <th></th>\n",
       "      <th>moSinceLast</th>\n",
       "      <th>moSinceFirst</th>\n",
       "      <th>moSinceLast:moSinceFirst</th>\n",
       "      <th>numDonations</th>\n",
       "      <th>volume</th>\n",
       "    </tr>\n",
       "  </thead>\n",
       "  <tbody>\n",
       "    <tr>\n",
       "      <th>0</th>\n",
       "      <td>-0.986184</td>\n",
       "      <td>0.659724</td>\n",
       "      <td>-0.650610</td>\n",
       "      <td>0.992653</td>\n",
       "      <td>0.992653</td>\n",
       "    </tr>\n",
       "    <tr>\n",
       "      <th>1</th>\n",
       "      <td>1.513816</td>\n",
       "      <td>0.100805</td>\n",
       "      <td>0.152600</td>\n",
       "      <td>0.174308</td>\n",
       "      <td>0.174308</td>\n",
       "    </tr>\n",
       "    <tr>\n",
       "      <th>2</th>\n",
       "      <td>-0.723027</td>\n",
       "      <td>-1.256570</td>\n",
       "      <td>0.908533</td>\n",
       "      <td>-0.807707</td>\n",
       "      <td>-0.807707</td>\n",
       "    </tr>\n",
       "    <tr>\n",
       "      <th>3</th>\n",
       "      <td>0.198026</td>\n",
       "      <td>0.100805</td>\n",
       "      <td>0.019962</td>\n",
       "      <td>0.828984</td>\n",
       "      <td>0.828984</td>\n",
       "    </tr>\n",
       "    <tr>\n",
       "      <th>4</th>\n",
       "      <td>-0.723027</td>\n",
       "      <td>-0.058886</td>\n",
       "      <td>0.042576</td>\n",
       "      <td>0.992653</td>\n",
       "      <td>0.992653</td>\n",
       "    </tr>\n",
       "  </tbody>\n",
       "</table>\n",
       "</div>"
      ],
      "text/plain": [
       "   moSinceLast  moSinceFirst  moSinceLast:moSinceFirst  numDonations    volume\n",
       "0    -0.986184      0.659724                 -0.650610      0.992653  0.992653\n",
       "1     1.513816      0.100805                  0.152600      0.174308  0.174308\n",
       "2    -0.723027     -1.256570                  0.908533     -0.807707 -0.807707\n",
       "3     0.198026      0.100805                  0.019962      0.828984  0.828984\n",
       "4    -0.723027     -0.058886                  0.042576      0.992653  0.992653"
      ]
     },
     "execution_count": 36,
     "metadata": {},
     "output_type": "execute_result"
    }
   ],
   "source": [
    "X_test.head()"
   ]
  },
  {
   "cell_type": "markdown",
   "metadata": {},
   "source": [
    "## Evaluate Algorithms"
   ]
  },
  {
   "cell_type": "markdown",
   "metadata": {},
   "source": [
    "### Baseline"
   ]
  },
  {
   "cell_type": "code",
   "execution_count": 37,
   "metadata": {
    "collapsed": true
   },
   "outputs": [],
   "source": [
    "# Test options and evaluation metric\n",
    "num_folds = 10\n",
    "num_instances = len(X_train)\n",
    "validation_size = 0.20\n",
    "scoring = 'log_loss'\n",
    "# scoring = 'accuracy'"
   ]
  },
  {
   "cell_type": "code",
   "execution_count": 38,
   "metadata": {
    "collapsed": false
   },
   "outputs": [],
   "source": [
    "X_train, X_validation, Y_train, Y_validation = cross_validation.train_test_split(X_df, Y_df,\n",
    "    test_size=validation_size, random_state=seed)"
   ]
  },
  {
   "cell_type": "code",
   "execution_count": 39,
   "metadata": {
    "collapsed": false
   },
   "outputs": [],
   "source": [
    "# Spot-Check Algorithms\n",
    "models = []\n",
    "models.append(('LogisticRegression', LogisticRegression()))\n",
    "models.append(('KNeighborsClassifier', KNeighborsClassifier()))\n",
    "models.append(('DecisionTreeClassifier', DecisionTreeClassifier()))\n",
    "models.append(('GaussianNB', GaussianNB()))\n",
    "models.append(('SVC', SVC(probability=True)))"
   ]
  },
  {
   "cell_type": "code",
   "execution_count": 40,
   "metadata": {
    "collapsed": false
   },
   "outputs": [
    {
     "name": "stdout",
     "output_type": "stream",
     "text": [
      "LogisticRegression: -0.503302 (0.080202)\n",
      "KNeighborsClassifier: -2.534732 (0.777671)\n",
      "DecisionTreeClassifier: -7.837931 (2.027846)\n",
      "GaussianNB: -0.769334 (0.312329)\n",
      "SVC: -0.539003 (0.094723)\n"
     ]
    }
   ],
   "source": [
    "# evaluate each model in turn\n",
    "results = []\n",
    "names = []\n",
    "for name, model in models:\n",
    "    kfold = cross_validation.KFold(n=num_instances, n_folds=num_folds, random_state=seed)\n",
    "    cv_results = cross_validation.cross_val_score(model, X_train, Y_train, cv=kfold,\n",
    "      scoring=scoring)\n",
    "    results.append(cv_results)\n",
    "    names.append(name)\n",
    "    msg = \"%s: %f (%f)\" % (name, cv_results.mean(), cv_results.std())\n",
    "    print(msg)"
   ]
  },
  {
   "cell_type": "code",
   "execution_count": 41,
   "metadata": {
    "collapsed": false
   },
   "outputs": [
    {
     "data": {
      "image/png": "[encoded data removed]",
      "text/plain": [
       "<matplotlib.figure.Figure at 0x110b416d0>"
      ]
     },
     "metadata": {},
     "output_type": "display_data"
    }
   ],
   "source": [
    "# Compare Algorithms\n",
    "fig = plt.figure()\n",
    "fig.suptitle('Algorithm Comparison')\n",
    "ax = fig.add_subplot(111)\n",
    "plt.boxplot(results)\n",
    "ax.set_xticklabels(names)\n",
    "plt.show()"
   ]
  },
  {
   "cell_type": "markdown",
   "metadata": {},
   "source": [
    "We can see that LogisticRegression has best score. Let's turning"
   ]
  },
  {
   "cell_type": "code",
   "execution_count": 42,
   "metadata": {
    "collapsed": false
   },
   "outputs": [],
   "source": [
    "param_grid = dict(\n",
    "    penalty=['l1', 'l2'],\n",
    "    C=[0.1, 0.3, 0.5, 0.7, 1.0, 2.0]\n",
    ")\n",
    "\n",
    "model = LogisticRegression()\n",
    "kfold = cross_validation.KFold(n=num_instances, n_folds=num_folds, random_state=seed)\n",
    "grid = GridSearchCV(estimator=model, param_grid=param_grid, scoring=scoring, cv=kfold)\n",
    "grid_result = grid.fit(X_train, Y_train)"
   ]
  },
  {
   "cell_type": "code",
   "execution_count": 43,
   "metadata": {
    "collapsed": false
   },
   "outputs": [
    {
     "name": "stdout",
     "output_type": "stream",
     "text": [
      "Best: -0.502602 using {'penalty': 'l1', 'C': 0.5}\n",
      "-0.511390 (0.074071) with: {'penalty': 'l1', 'C': 0.1}\n",
      "-0.504822 (0.069552) with: {'penalty': 'l2', 'C': 0.1}\n",
      "-0.503423 (0.078166) with: {'penalty': 'l1', 'C': 0.3}\n",
      "-0.502897 (0.076726) with: {'penalty': 'l2', 'C': 0.3}\n",
      "-0.502602 (0.079205) with: {'penalty': 'l1', 'C': 0.5}\n",
      "-0.503014 (0.078615) with: {'penalty': 'l2', 'C': 0.5}\n",
      "-0.502668 (0.079863) with: {'penalty': 'l1', 'C': 0.7}\n",
      "-0.503154 (0.079501) with: {'penalty': 'l2', 'C': 0.7}\n",
      "-0.502899 (0.080416) with: {'penalty': 'l1', 'C': 1.0}\n",
      "-0.503302 (0.080202) with: {'penalty': 'l2', 'C': 1.0}\n",
      "-0.503298 (0.081146) with: {'penalty': 'l1', 'C': 2.0}\n",
      "-0.503528 (0.081064) with: {'penalty': 'l2', 'C': 2.0}\n"
     ]
    }
   ],
   "source": [
    "print(\"Best: %f using %s\" % (grid_result.best_score_, grid_result.best_params_))\n",
    "for params, mean_score, scores in grid_result.grid_scores_:\n",
    "    print(\"%f (%f) with: %r\" % (scores.mean(), scores.std(), params))"
   ]
  },
  {
   "cell_type": "markdown",
   "metadata": {},
   "source": [
    "## Improve Accuracy"
   ]
  },
  {
   "cell_type": "markdown",
   "metadata": {
    "collapsed": true
   },
   "source": [
    "### Ensembles"
   ]
  },
  {
   "cell_type": "code",
   "execution_count": 44,
   "metadata": {
    "collapsed": false
   },
   "outputs": [
    {
     "name": "stdout",
     "output_type": "stream",
     "text": [
      "RandomForestClassifier: -2.240248 (0.976048)\n",
      "ExtraTreesClassifier: -3.589260 (1.491376)\n",
      "BaggingClassifier: -2.794343 (1.610488)\n",
      "GradientBoostingClassifier: -0.577579 (0.124137)\n",
      "AdaBoostClassifier: -0.681928 (0.003384)\n"
     ]
    }
   ],
   "source": [
    "ensembles = []\n",
    "ensembles.append(( 'RandomForestClassifier' , Pipeline([( 'Scaler' , StandardScaler()),( 'AB' ,\n",
    "    RandomForestClassifier())])))\n",
    "ensembles.append(( 'ExtraTreesClassifier' , Pipeline([( 'Scaler' , StandardScaler()),( 'GBM' ,\n",
    "    ExtraTreesClassifier())])))\n",
    "ensembles.append(( 'BaggingClassifier' , Pipeline([( 'Scaler' , StandardScaler()),( 'RF' ,\n",
    "    BaggingClassifier())])))\n",
    "ensembles.append(( 'GradientBoostingClassifier' , Pipeline([( 'Scaler' , StandardScaler()),( 'ET' ,\n",
    "    GradientBoostingClassifier())])))\n",
    "ensembles.append(( 'AdaBoostClassifier' , Pipeline([( 'Scaler' , StandardScaler()),( 'ET' ,\n",
    "    AdaBoostClassifier())])))\n",
    "results = []\n",
    "names = []\n",
    "for name, model in ensembles:\n",
    "    kfold = cross_validation.KFold(n=num_instances, n_folds=num_folds, random_state=seed)\n",
    "    cv_results = cross_validation.cross_val_score(model, X_train, Y_train, cv=kfold,\n",
    "      scoring=scoring)\n",
    "    results.append(cv_results)\n",
    "    names.append(name)\n",
    "    msg = \"%s: %f (%f)\" % (name, cv_results.mean(), cv_results.std())\n",
    "    print(msg)"
   ]
  },
  {
   "cell_type": "code",
   "execution_count": 45,
   "metadata": {
    "collapsed": false
   },
   "outputs": [
    {
     "data": {
      "image/png": "[encoded data removed]",
      "text/plain": [
       "<matplotlib.figure.Figure at 0x1111bca10>"
      ]
     },
     "metadata": {},
     "output_type": "display_data"
    }
   ],
   "source": [
    "# Compare Algorithms\n",
    "fig = plt.figure()\n",
    "fig.suptitle( 'Scaled Ensemble Algorithm Comparison' )\n",
    "ax = fig.add_subplot(111)\n",
    "plt.boxplot(results)\n",
    "ax.set_xticklabels(names)\n",
    "plt.show()"
   ]
  },
  {
   "cell_type": "markdown",
   "metadata": {},
   "source": [
    "GradientBoostingClassifier has better result, let's turning."
   ]
  },
  {
   "cell_type": "markdown",
   "metadata": {},
   "source": [
    "The default number of boosting stages to perform (nestimators) is 100. This is a good candidate parameter of Gradient Boosting to tune. Often, the larger the number of boosting stages, the better the performance but the longer the training time. In this section we will look at tuning the number of stages for gradient boosting. Below we define a parameter grid n estimators values from 50 to 400 in increments of 50. Each setting is evaluated using 10-fold cross validation."
   ]
  },
  {
   "cell_type": "code",
   "execution_count": 46,
   "metadata": {
    "collapsed": false
   },
   "outputs": [],
   "source": [
    "scaler = StandardScaler().fit(X_train)\n",
    "rescaledX = scaler.transform(X_train)\n",
    "param_grid = dict(n_estimators=np.array([50,100,150,200,250,300,350,400]))\n",
    "model = GradientBoostingClassifier(random_state=seed)\n",
    "kfold = cross_validation.KFold(n=num_instances, n_folds=num_folds, random_state=seed)\n",
    "grid = GridSearchCV(estimator=model, param_grid=param_grid, scoring=scoring, cv=kfold)\n",
    "grid_result = grid.fit(rescaledX, Y_train)"
   ]
  },
  {
   "cell_type": "code",
   "execution_count": 47,
   "metadata": {
    "collapsed": false
   },
   "outputs": [
    {
     "name": "stdout",
     "output_type": "stream",
     "text": [
      "Best: -0.541565 using {'n_estimators': 50}\n",
      "-0.541565 (0.105590) with: {'n_estimators': 50}\n",
      "-0.578446 (0.125110) with: {'n_estimators': 100}\n",
      "-0.618350 (0.148224) with: {'n_estimators': 150}\n",
      "-0.664258 (0.171722) with: {'n_estimators': 200}\n",
      "-0.707595 (0.194437) with: {'n_estimators': 250}\n",
      "-0.741610 (0.211269) with: {'n_estimators': 300}\n",
      "-0.781727 (0.225816) with: {'n_estimators': 350}\n",
      "-0.830096 (0.241243) with: {'n_estimators': 400}\n"
     ]
    }
   ],
   "source": [
    "print(\"Best: %f using %s\" % (grid_result.best_score_, grid_result.best_params_))\n",
    "for params, mean_score, scores in grid_result.grid_scores_:\n",
    "    print(\"%f (%f) with: %r\" % (scores.mean(), scores.std(), params))"
   ]
  },
  {
   "cell_type": "markdown",
   "metadata": {},
   "source": [
    "## Finalize Model"
   ]
  },
  {
   "cell_type": "markdown",
   "metadata": {},
   "source": [
    "### Baseline"
   ]
  },
  {
   "cell_type": "code",
   "execution_count": 48,
   "metadata": {
    "collapsed": false
   },
   "outputs": [
    {
     "data": {
      "text/plain": [
       "LogisticRegression(C=0.3, class_weight=None, dual=False, fit_intercept=True,\n",
       "          intercept_scaling=1, max_iter=100, multi_class='ovr',\n",
       "          penalty='l2', random_state=None, solver='liblinear', tol=0.0001,\n",
       "          verbose=0)"
      ]
     },
     "execution_count": 48,
     "metadata": {},
     "output_type": "execute_result"
    }
   ],
   "source": [
    "# prepare the model\n",
    "model = LogisticRegression(penalty='l2', C=0.3)\n",
    "model.fit(X_train, Y_train)"
   ]
  },
  {
   "cell_type": "code",
   "execution_count": 49,
   "metadata": {
    "collapsed": false
   },
   "outputs": [
    {
     "name": "stdout",
     "output_type": "stream",
     "text": [
      "7.74144988162\n"
     ]
    }
   ],
   "source": [
    "# transform the validation dataset\n",
    "predictions = model.predict(X_validation)\n",
    "print(log_loss(Y_validation, predictions))"
   ]
  },
  {
   "cell_type": "markdown",
   "metadata": {},
   "source": [
    "### Ensembles"
   ]
  },
  {
   "cell_type": "code",
   "execution_count": 50,
   "metadata": {
    "collapsed": false
   },
   "outputs": [
    {
     "data": {
      "text/plain": [
       "GradientBoostingClassifier(init=None, learning_rate=0.1, loss='deviance',\n",
       "              max_depth=3, max_features=None, max_leaf_nodes=None,\n",
       "              min_samples_leaf=1, min_samples_split=2,\n",
       "              min_weight_fraction_leaf=0.0, n_estimators=50,\n",
       "              random_state=7, subsample=1.0, verbose=0, warm_start=False)"
      ]
     },
     "execution_count": 50,
     "metadata": {},
     "output_type": "execute_result"
    }
   ],
   "source": [
    "# prepare the model\n",
    "ensembles_model = GradientBoostingClassifier(random_state=seed, n_estimators=50)\n",
    "ensembles_model.fit(X_train, Y_train)"
   ]
  },
  {
   "cell_type": "code",
   "execution_count": 51,
   "metadata": {
    "collapsed": false
   },
   "outputs": [
    {
     "name": "stdout",
     "output_type": "stream",
     "text": [
      "6.84823323683\n"
     ]
    }
   ],
   "source": [
    "# transform the validation dataset\n",
    "predictions = ensembles_model.predict(X_validation)\n",
    "print(log_loss(Y_validation, predictions))"
   ]
  },
  {
   "cell_type": "markdown",
   "metadata": {},
   "source": [
    "## Predict results"
   ]
  },
  {
   "cell_type": "code",
   "execution_count": 52,
   "metadata": {
    "collapsed": true
   },
   "outputs": [],
   "source": [
    "preds = ensembles_model.predict_proba(X_test)"
   ]
  },
  {
   "cell_type": "code",
   "execution_count": 53,
   "metadata": {
    "collapsed": false
   },
   "outputs": [],
   "source": [
    "preds = [x[1] for x in preds]"
   ]
  },
  {
   "cell_type": "code",
   "execution_count": 54,
   "metadata": {
    "collapsed": true
   },
   "outputs": [],
   "source": [
    "solution = pd.DataFrame({\"\": IDs, \"Made Donation in March 2007\": preds})\n",
    "solution.to_csv(\"./results/02_machine_learning_v01.csv\", index = False)"
   ]
  },
  {
   "cell_type": "markdown",
   "metadata": {},
   "source": [
    "This solution has score 10.8536 on Drivendata (position 642/2022 = top 31%) on Dec. 16, 2016, 6:01 a.m."
   ]
  },
  {
   "cell_type": "markdown",
   "metadata": {},
   "source": [
    "This solution has score 0.5194 on Drivendata (position 642/2022 = top 31%) on Dec. 19, 2016, 4:24 a.m."
   ]
  },
  {
   "cell_type": "code",
   "execution_count": null,
   "metadata": {
    "collapsed": true
   },
   "outputs": [],
   "source": []
  }
 ],
 "metadata": {
  "kernelspec": {
   "display_name": "Python 2",
   "language": "python",
   "name": "python2"
  },
  "language_info": {
   "codemirror_mode": {
    "name": "ipython",
    "version": 2
   },
   "file_extension": ".py",
   "mimetype": "text/x-python",
   "name": "python",
   "nbconvert_exporter": "python",
   "pygments_lexer": "ipython2",
   "version": "2.7.12"
  }
 },
 "nbformat": 4,
 "nbformat_minor": 0
}
