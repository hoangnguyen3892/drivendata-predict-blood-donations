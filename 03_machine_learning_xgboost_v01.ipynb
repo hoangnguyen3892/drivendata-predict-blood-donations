{
 "cells": [
  {
   "cell_type": "markdown",
   "metadata": {},
   "source": [
    "**Predictive modeling including steps:**\n",
    "1. Prepare Problem\n",
    " - Load libraries\n",
    " - Load dataset\n",
    "2. Summarize Data\n",
    " - Descriptive statistics\n",
    " - Data visualizations\n",
    "3. Prepare Data\n",
    " - Data Cleaning\n",
    " - Feature Selection\n",
    " - Data Transforms\n",
    "4. Evaluate Algorithms\n",
    " - Split-out validation dataset\n",
    " - Test options and evaluation metric\n",
    " - Spot-Check Algorithms\n",
    " - Compare Algorithms\n",
    "5. Improve Accuracy\n",
    " - Algorithm Tuning\n",
    " - Ensembles\n",
    "6. Finalize Model\n",
    " - Predictions on validation dataset\n",
    " - Create standalone model on entire training dataset\n",
    " - Save model for later use"
   ]
  },
  {
   "cell_type": "code",
   "execution_count": 1,
   "metadata": {
    "collapsed": false
   },
   "outputs": [],
   "source": [
    "%matplotlib inline"
   ]
  },
  {
   "cell_type": "markdown",
   "metadata": {},
   "source": [
    "## Prepare Problem"
   ]
  },
  {
   "cell_type": "code",
   "execution_count": 2,
   "metadata": {
    "collapsed": false
   },
   "outputs": [
    {
     "name": "stderr",
     "output_type": "stream",
     "text": [
      "/Users/thuongdinh/anaconda/lib/python2.7/site-packages/matplotlib/__init__.py:1318: UserWarning:  This call to matplotlib.use() has no effect\n",
      "because the backend has already been chosen;\n",
      "matplotlib.use() must be called *before* pylab, matplotlib.pyplot,\n",
      "or matplotlib.backends is imported for the first time.\n",
      "\n",
      "  warnings.warn(_use_error_msg)\n"
     ]
    }
   ],
   "source": [
    "import matplotlib\n",
    "matplotlib.use('Agg')"
   ]
  },
  {
   "cell_type": "code",
   "execution_count": 3,
   "metadata": {
    "collapsed": false
   },
   "outputs": [],
   "source": [
    "# Load libraries\n",
    "import time\n",
    "import pandas as pd\n",
    "from pandas import read_csv\n",
    "from xgboost import XGBClassifier\n",
    "from sklearn.grid_search import GridSearchCV\n",
    "from sklearn.cross_validation import StratifiedKFold\n",
    "from sklearn import cross_validation\n",
    "from sklearn.preprocessing import LabelEncoder\n",
    "from matplotlib import pyplot\n",
    "from sklearn.metrics import classification_report\n",
    "from sklearn.metrics import confusion_matrix\n",
    "from sklearn.metrics import accuracy_score\n",
    "from sklearn.metrics import mean_squared_error\n",
    "from sklearn.metrics import log_loss"
   ]
  },
  {
   "cell_type": "code",
   "execution_count": 4,
   "metadata": {
    "collapsed": false
   },
   "outputs": [],
   "source": [
    "# config for show max number of output lines\n",
    "pd.options.display.max_rows = 999\n",
    "pd.options.display.max_columns = 100"
   ]
  },
  {
   "cell_type": "code",
   "execution_count": 5,
   "metadata": {
    "collapsed": true
   },
   "outputs": [],
   "source": [
    "seed = 7"
   ]
  },
  {
   "cell_type": "code",
   "execution_count": 6,
   "metadata": {
    "collapsed": false
   },
   "outputs": [],
   "source": [
    "from helper.load_data import load_data\n",
    "Y, X = load_data(train=True, SEED=seed, scale=True,\n",
    "              minmax=False,\n",
    "              nointercept=True,\n",
    "              engineering=False)"
   ]
  },
  {
   "cell_type": "markdown",
   "metadata": {},
   "source": [
    "## Evaluate Algorithms"
   ]
  },
  {
   "cell_type": "code",
   "execution_count": 7,
   "metadata": {
    "collapsed": false
   },
   "outputs": [],
   "source": [
    "# Split-out validation dataset\n",
    "validation_size = 0.20\n",
    "X_train, X_validation, Y_train, Y_validation = cross_validation.train_test_split(X, Y,\n",
    "    test_size=validation_size, random_state=seed)"
   ]
  },
  {
   "cell_type": "markdown",
   "metadata": {},
   "source": [
    "### Tuning Row Subsampling"
   ]
  },
  {
   "cell_type": "code",
   "execution_count": 8,
   "metadata": {
    "collapsed": false
   },
   "outputs": [],
   "source": [
    "# fit model no training data\n",
    "model = XGBClassifier()\n",
    "subsample = [0.1, 0.2, 0.3, 0.4, 0.5, 0.6, 0.7, 0.8, 1.0]\n",
    "param_grid = dict(subsample=subsample)\n",
    "kfold = StratifiedKFold(Y_train, n_folds=10, shuffle=True, random_state=7)\n",
    "grid_search = GridSearchCV(model, param_grid, scoring=\"log_loss\", n_jobs=-1, cv=kfold)\n",
    "result = grid_search.fit(X_train, Y_train)"
   ]
  },
  {
   "cell_type": "code",
   "execution_count": 9,
   "metadata": {
    "collapsed": false
   },
   "outputs": [
    {
     "name": "stdout",
     "output_type": "stream",
     "text": [
      "Best: -0.509350 using {'subsample': 0.1}\n"
     ]
    }
   ],
   "source": [
    "# summarize results\n",
    "print(\"Best: %f using %s\" % (result.best_score_, result.best_params_))"
   ]
  },
  {
   "cell_type": "code",
   "execution_count": 10,
   "metadata": {
    "collapsed": false
   },
   "outputs": [
    {
     "name": "stdout",
     "output_type": "stream",
     "text": [
      "-0.509350 (0.077856) with: {'subsample': 0.1}\n",
      "-0.529664 (0.087890) with: {'subsample': 0.2}\n",
      "-0.522570 (0.072762) with: {'subsample': 0.3}\n",
      "-0.528944 (0.078976) with: {'subsample': 0.4}\n",
      "-0.527875 (0.070705) with: {'subsample': 0.5}\n",
      "-0.537439 (0.071634) with: {'subsample': 0.6}\n",
      "-0.539250 (0.067821) with: {'subsample': 0.7}\n",
      "-0.548293 (0.075875) with: {'subsample': 0.8}\n",
      "-0.546758 (0.062205) with: {'subsample': 1.0}\n"
     ]
    },
    {
     "data": {
      "text/plain": [
       "<matplotlib.text.Text at 0x10d36c410>"
      ]
     },
     "execution_count": 10,
     "metadata": {},
     "output_type": "execute_result"
    },
    {
     "data": {
      "image/png": "[encoded data removed]",
      "text/plain": [
       "<matplotlib.figure.Figure at 0x10d309510>"
      ]
     },
     "metadata": {},
     "output_type": "display_data"
    }
   ],
   "source": [
    "means, stdevs = [], []\n",
    "for params, mean_score, scores in result.grid_scores_:\n",
    "    stdev = scores.std()\n",
    "    means.append(mean_score)\n",
    "    stdevs.append(stdev)\n",
    "    print(\"%f (%f) with: %r\" % (mean_score, stdev, params))\n",
    "# plot\n",
    "pyplot.errorbar(subsample, means, yerr=stdevs)\n",
    "pyplot.title(\"XGBoost subsample vs Log Loss\")\n",
    "pyplot.xlabel( 'subsample' )\n",
    "pyplot.ylabel( 'Log Loss' )"
   ]
  },
  {
   "cell_type": "markdown",
   "metadata": {},
   "source": [
    "### Tuning Column Subsampling By Tree"
   ]
  },
  {
   "cell_type": "code",
   "execution_count": 11,
   "metadata": {
    "collapsed": true
   },
   "outputs": [],
   "source": [
    "colsample_bytree = [0.6, 0.7, 0.8, 1.0]\n",
    "param_grid = dict(colsample_bytree=colsample_bytree)\n",
    "kfold = StratifiedKFold(Y_train, n_folds=10, shuffle=True, random_state=7)\n",
    "grid_search = GridSearchCV(model, param_grid, scoring=\"log_loss\", n_jobs=-1, cv=kfold)\n",
    "result = grid_search.fit(X_train, Y_train)"
   ]
  },
  {
   "cell_type": "code",
   "execution_count": 12,
   "metadata": {
    "collapsed": false
   },
   "outputs": [
    {
     "name": "stdout",
     "output_type": "stream",
     "text": [
      "Best: -0.538803 using {'colsample_bytree': 0.8}\n"
     ]
    }
   ],
   "source": [
    "# summarize results\n",
    "print(\"Best: %f using %s\" % (result.best_score_, result.best_params_))"
   ]
  },
  {
   "cell_type": "code",
   "execution_count": 14,
   "metadata": {
    "collapsed": false
   },
   "outputs": [
    {
     "name": "stdout",
     "output_type": "stream",
     "text": [
      "-0.541386 (0.062815) with: {'colsample_bytree': 0.6}\n",
      "-0.541386 (0.062815) with: {'colsample_bytree': 0.7}\n",
      "-0.538803 (0.064350) with: {'colsample_bytree': 0.8}\n",
      "-0.546758 (0.062205) with: {'colsample_bytree': 1.0}\n"
     ]
    },
    {
     "data": {
      "text/plain": [
       "<matplotlib.text.Text at 0x10f91e110>"
      ]
     },
     "execution_count": 14,
     "metadata": {},
     "output_type": "execute_result"
    },
    {
     "data": {
      "image/png": "[encoded data removed]",
      "text/plain": [
       "<matplotlib.figure.Figure at 0x110004090>"
      ]
     },
     "metadata": {},
     "output_type": "display_data"
    }
   ],
   "source": [
    "means, stdevs = [], []\n",
    "for params, mean_score, scores in result.grid_scores_:\n",
    "    stdev = scores.std()\n",
    "    means.append(mean_score)\n",
    "    stdevs.append(stdev)\n",
    "    print(\"%f (%f) with: %r\" % (mean_score, stdev, params))\n",
    "# plot\n",
    "pyplot.errorbar(colsample_bytree, means, yerr=stdevs)\n",
    "pyplot.title(\"XGBoost colsample_bytree vs Log Loss\")\n",
    "pyplot.xlabel('colsample_bytree')\n",
    "pyplot.ylabel('Log Loss')"
   ]
  },
  {
   "cell_type": "markdown",
   "metadata": {},
   "source": [
    "### Tuning Imbalanced"
   ]
  },
  {
   "cell_type": "code",
   "execution_count": 15,
   "metadata": {
    "collapsed": true
   },
   "outputs": [],
   "source": [
    "max_delta_step = range(0, 11) # 1 -> 10\n",
    "param_grid = dict(max_delta_step=max_delta_step)\n",
    "kfold = StratifiedKFold(Y_train, n_folds=10, shuffle=True, random_state=7)\n",
    "grid_search = GridSearchCV(model, param_grid, scoring=\"log_loss\", n_jobs=-1, cv=kfold)\n",
    "result = grid_search.fit(X_train, Y_train)"
   ]
  },
  {
   "cell_type": "code",
   "execution_count": 16,
   "metadata": {
    "collapsed": false
   },
   "outputs": [
    {
     "name": "stdout",
     "output_type": "stream",
     "text": [
      "Best: -0.543306 using {'max_delta_step': 1}\n"
     ]
    }
   ],
   "source": [
    "# summarize results\n",
    "print(\"Best: %f using %s\" % (result.best_score_, result.best_params_))"
   ]
  },
  {
   "cell_type": "markdown",
   "metadata": {},
   "source": [
    "### Tuning Max Depth"
   ]
  },
  {
   "cell_type": "code",
   "execution_count": 17,
   "metadata": {
    "collapsed": true
   },
   "outputs": [],
   "source": [
    "max_depth = range(3, 11) # 3 -> 10\n",
    "param_grid = dict(max_depth=max_depth)\n",
    "kfold = StratifiedKFold(Y_train, n_folds=10, shuffle=True, random_state=7)\n",
    "grid_search = GridSearchCV(model, param_grid, scoring=\"log_loss\", n_jobs=-1, cv=kfold)\n",
    "result = grid_search.fit(X_train, Y_train)"
   ]
  },
  {
   "cell_type": "code",
   "execution_count": 18,
   "metadata": {
    "collapsed": false
   },
   "outputs": [
    {
     "name": "stdout",
     "output_type": "stream",
     "text": [
      "Best: -0.546758 using {'max_depth': 3}\n"
     ]
    }
   ],
   "source": [
    "# summarize results\n",
    "print(\"Best: %f using %s\" % (result.best_score_, result.best_params_))"
   ]
  },
  {
   "cell_type": "markdown",
   "metadata": {},
   "source": [
    "Equal default, so don't need to Ensemble"
   ]
  },
  {
   "cell_type": "markdown",
   "metadata": {},
   "source": [
    "### Tuning min_child_weight"
   ]
  },
  {
   "cell_type": "code",
   "execution_count": 19,
   "metadata": {
    "collapsed": true
   },
   "outputs": [],
   "source": [
    "min_child_weight = range(1, 11) # 3 -> 10\n",
    "param_grid = dict(min_child_weight=min_child_weight)\n",
    "kfold = StratifiedKFold(Y_train, n_folds=10, shuffle=True, random_state=7)\n",
    "grid_search = GridSearchCV(model, param_grid, scoring=\"log_loss\", n_jobs=-1, cv=kfold)\n",
    "result = grid_search.fit(X_train, Y_train)"
   ]
  },
  {
   "cell_type": "code",
   "execution_count": 20,
   "metadata": {
    "collapsed": false
   },
   "outputs": [
    {
     "name": "stdout",
     "output_type": "stream",
     "text": [
      "Best: -0.516063 using {'min_child_weight': 8}\n"
     ]
    }
   ],
   "source": [
    "# summarize results\n",
    "print(\"Best: %f using %s\" % (result.best_score_, result.best_params_))"
   ]
  },
  {
   "cell_type": "markdown",
   "metadata": {},
   "source": [
    "### Ensemble all tuning params"
   ]
  },
  {
   "cell_type": "code",
   "execution_count": 21,
   "metadata": {
    "collapsed": true
   },
   "outputs": [],
   "source": [
    "max_delta_step = range(0, 11) # 1 -> 10\n",
    "colsample_bytree = [0.6, 0.7, 0.8, 1.0]\n",
    "subsample = [0.1, 0.2, 0.3, 0.4, 0.5, 0.6, 0.7, 0.8, 1.0]\n",
    "min_child_weight = range(1, 11) # 3 -> 10\n",
    "param_grid = dict(\n",
    "    max_delta_step=max_delta_step,\n",
    "    colsample_bytree=colsample_bytree,\n",
    "    subsample=subsample,\n",
    "    min_child_weight=min_child_weight\n",
    ")\n",
    "kfold = StratifiedKFold(Y_train, n_folds=10, shuffle=True, random_state=7)\n",
    "grid_search = GridSearchCV(model, param_grid, scoring=\"log_loss\", n_jobs=-1, cv=kfold)\n",
    "result = grid_search.fit(X_train, Y_train)"
   ]
  },
  {
   "cell_type": "code",
   "execution_count": 22,
   "metadata": {
    "collapsed": false
   },
   "outputs": [
    {
     "name": "stdout",
     "output_type": "stream",
     "text": [
      "Best: -0.499299 using {'max_delta_step': 0, 'colsample_bytree': 0.6, 'min_child_weight': 9, 'subsample': 0.3}\n"
     ]
    }
   ],
   "source": [
    "# summarize results\n",
    "print(\"Best: %f using %s\" % (result.best_score_, result.best_params_))"
   ]
  },
  {
   "cell_type": "markdown",
   "metadata": {},
   "source": [
    "## Finalize Model"
   ]
  },
  {
   "cell_type": "code",
   "execution_count": 31,
   "metadata": {
    "collapsed": false
   },
   "outputs": [
    {
     "data": {
      "text/plain": [
       "XGBClassifier(base_score=0.5, colsample_bytree=0.8, gamma=0,\n",
       "       learning_rate=0.1, max_delta_step=1, max_depth=3,\n",
       "       min_child_weight=1, n_estimators=100, nthread=-1,\n",
       "       objective='binary:logistic', seed=0, silent=True, subsample=0.1)"
      ]
     },
     "execution_count": 31,
     "metadata": {},
     "output_type": "execute_result"
    }
   ],
   "source": [
    "model = XGBClassifier(colsample_bytree=0.8, subsample=0.1, max_delta_step=1)\n",
    "model.fit(X_train, Y_train)"
   ]
  },
  {
   "cell_type": "code",
   "execution_count": 32,
   "metadata": {
    "collapsed": false
   },
   "outputs": [
    {
     "name": "stdout",
     "output_type": "stream",
     "text": [
      "('Log loss', 6.2527370920934935)\n",
      "('Accuracy Score', 0.81896551724137934)\n",
      "Classification Report\n",
      "             precision    recall  f1-score   support\n",
      "\n",
      "          0       0.83      0.95      0.89        88\n",
      "          1       0.73      0.39      0.51        28\n",
      "\n",
      "avg / total       0.81      0.82      0.80       116\n",
      "\n"
     ]
    }
   ],
   "source": [
    "# transform the validation dataset\n",
    "predictions = model.predict(X_validation)\n",
    "print(\"Log loss\", log_loss(Y_validation, predictions))\n",
    "print(\"Accuracy Score\", accuracy_score(Y_validation, predictions))\n",
    "print(\"Classification Report\")\n",
    "print(classification_report(Y_validation, predictions))"
   ]
  },
  {
   "cell_type": "markdown",
   "metadata": {},
   "source": [
    "## Predict result"
   ]
  },
  {
   "cell_type": "code",
   "execution_count": 33,
   "metadata": {
    "collapsed": true
   },
   "outputs": [],
   "source": [
    "X_test, IDs = load_data(train=False, SEED=seed, scale=True,\n",
    "              minmax=False,\n",
    "              nointercept=True,\n",
    "              engineering=False)"
   ]
  },
  {
   "cell_type": "code",
   "execution_count": 34,
   "metadata": {
    "collapsed": true
   },
   "outputs": [],
   "source": [
    "preds = model.predict_proba(X_test)"
   ]
  },
  {
   "cell_type": "code",
   "execution_count": 35,
   "metadata": {
    "collapsed": false
   },
   "outputs": [],
   "source": [
    "preds = [x[1] for x in preds]"
   ]
  },
  {
   "cell_type": "code",
   "execution_count": 36,
   "metadata": {
    "collapsed": false
   },
   "outputs": [],
   "source": [
    "solution = pd.DataFrame({\"\": IDs, \"Made Donation in March 2007\": preds})\n",
    "solution.to_csv(\"./results/03_machine_learning_xgboost_v01.csv\", index = False)"
   ]
  },
  {
   "cell_type": "markdown",
   "metadata": {
    "collapsed": true
   },
   "source": [
    "This solution has score 0.4627 on Drivendata (position 424/2051 = top 20%) on Dec. 19, 2016, 4:43 a.m.\n",
    "With params: colsample_bytree=0.8, subsample=0.1"
   ]
  },
  {
   "cell_type": "markdown",
   "metadata": {},
   "source": [
    "This solution has score 0.4642 on Drivendata (position 425/2058 = top 20%) on Dec. 20, 2016, 4:43 a.m.\n",
    "With params: colsample_bytree=0.6, subsample=0.3, max_delta_step=0, min_child_weight=9."
   ]
  },
  {
   "cell_type": "markdown",
   "metadata": {
    "collapsed": true
   },
   "source": [
    "This solution has score 0.4550 on Drivendata (position 361/2058 = top 17%) on Dec. 20, 2016, 4:43 a.m.\n",
    "With params:colsample_bytree=0.8, subsample=0.1, max_delta_step=1."
   ]
  },
  {
   "cell_type": "code",
   "execution_count": null,
   "metadata": {
    "collapsed": true
   },
   "outputs": [],
   "source": []
  }
 ],
 "metadata": {
  "kernelspec": {
   "display_name": "Python 2",
   "language": "python",
   "name": "python2"
  },
  "language_info": {
   "codemirror_mode": {
    "name": "ipython",
    "version": 2
   },
   "file_extension": ".py",
   "mimetype": "text/x-python",
   "name": "python",
   "nbconvert_exporter": "python",
   "pygments_lexer": "ipython2",
   "version": "2.7.12"
  }
 },
 "nbformat": 4,
 "nbformat_minor": 0
}
